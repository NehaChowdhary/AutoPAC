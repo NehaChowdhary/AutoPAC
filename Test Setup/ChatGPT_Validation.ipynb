{
 "cells": [
  {
   "cell_type": "code",
   "execution_count": 1,
   "id": "1063a6ee-23ec-4a89-9546-8ab3e780dcf6",
   "metadata": {},
   "outputs": [],
   "source": [
    "# import seaborn as sns\n",
    "import pandas as pd\n",
    "import matplotlib.pyplot as plt\n",
    "import os\n",
    "from sklearn.feature_extraction.text import CountVectorizer\n",
    "import numpy as np\n",
    "from sklearn.metrics.pairwise import cosine_similarity\n",
    "from transformers import AutoTokenizer\n",
    "import torch"
   ]
  },
  {
   "cell_type": "code",
   "execution_count": 2,
   "id": "46be456f-c35d-4a3c-81a4-9c262102acdd",
   "metadata": {},
   "outputs": [],
   "source": [
    "df = pd.read_csv('OPA_Test_Cases/ChatGPT_Validated/chatgpt_validated4.csv')"
   ]
  },
  {
   "cell_type": "code",
   "execution_count": 3,
   "id": "3031cc68-3348-44ee-a651-01e286e213c3",
   "metadata": {},
   "outputs": [
    {
     "data": {
      "text/plain": [
       "(117, 5)"
      ]
     },
     "execution_count": 3,
     "metadata": {},
     "output_type": "execute_result"
    }
   ],
   "source": [
    "df.shape"
   ]
  },
  {
   "cell_type": "code",
   "execution_count": 4,
   "id": "11d0421d-ad75-4f42-af8a-082f558dcb4c",
   "metadata": {},
   "outputs": [
    {
     "data": {
      "text/plain": [
       "(7, 5)"
      ]
     },
     "execution_count": 4,
     "metadata": {},
     "output_type": "execute_result"
    }
   ],
   "source": [
    "df_invalid = df[df['Validation_Passed']!=True]\n",
    "df_invalid.shape"
   ]
  },
  {
   "cell_type": "code",
   "execution_count": 5,
   "id": "9c262456",
   "metadata": {},
   "outputs": [],
   "source": [
    "# Function to calculate cosine similarity\n",
    "def cosine_similarity_tokenized_strings(string1, string2, tokenizer_name):\n",
    "    # Initialize the tokenizer\n",
    "    tokenizer = AutoTokenizer.from_pretrained(tokenizer_name)\n",
    "\n",
    "    # Tokenize the strings\n",
    "    tokens1 = tokenizer(string1, return_tensors='pt', padding=True, truncation=True)\n",
    "    tokens2 = tokenizer(string2, return_tensors='pt', padding=True, truncation=True)\n",
    "\n",
    "    # Get token IDs\n",
    "    input_ids1 = tokens1['input_ids']\n",
    "    input_ids2 = tokens2['input_ids']\n",
    "\n",
    "    # Ensure equal sequence length by padding or truncating\n",
    "    max_length = max(input_ids1.shape[1], input_ids2.shape[1])\n",
    "    input_ids1 = torch.nn.functional.pad(input_ids1, (0, max_length - input_ids1.shape[1]), value=tokenizer.pad_token_id)\n",
    "    input_ids2 = torch.nn.functional.pad(input_ids2, (0, max_length - input_ids2.shape[1]), value=tokenizer.pad_token_id)\n",
    "\n",
    "    # Flatten token IDs\n",
    "    flat_input_ids1 = input_ids1.flatten()\n",
    "    flat_input_ids2 = input_ids2.flatten()\n",
    "\n",
    "    # Calculate cosine similarity\n",
    "    similarity = cosine_similarity(flat_input_ids1.unsqueeze(0), flat_input_ids2.unsqueeze(0))\n",
    "\n",
    "    return similarity[0][0]"
   ]
  },
  {
   "cell_type": "code",
   "execution_count": 6,
   "id": "7cd12001-d883-4190-a651-03568c1b50e4",
   "metadata": {},
   "outputs": [],
   "source": [
    "df_similarity_scores = pd.DataFrame(columns=['Index','Directory', 'Query', 'PrivateGPT_Rule', 'Actual_Rule','Similarity_Score'])"
   ]
  },
  {
   "cell_type": "code",
   "execution_count": 7,
   "id": "107ea2cb-72ef-441f-9c45-18dd219a20b9",
   "metadata": {},
   "outputs": [],
   "source": [
    "for i in range(df_invalid.shape[0]):\n",
    "    prompt = df_invalid.iloc[i,2]\n",
    "    invalid_rule = df_invalid.iloc[i,3]\n",
    "    directory = df_invalid.iloc[i,1]\n",
    "    df_actual_rules = pd.read_csv('/home/tanmoy/OPA/'+directory+\"/\"+directory+\"output_test.csv\")\n",
    "    valid_rule = df_actual_rules[df_actual_rules['prompt']==prompt].iloc[0,2]\n",
    "    valid_rule = valid_rule[valid_rule.index('\\n')+1:]\n",
    "    similarity_score = cosine_similarity_tokenized_strings(invalid_rule,valid_rule,'Salesforce/codet5-small')\n",
    "    if(df_similarity_scores.shape[0] == 0):\n",
    "        df_similarity_scores['Index'] = [0]\n",
    "        df_similarity_scores['Directory'] = [directory]\n",
    "        df_similarity_scores['Query'] = [prompt]\n",
    "        df_similarity_scores['PrivateGPT_Rule'] = [invalid_rule]\n",
    "        df_similarity_scores['Actual_Rule'] = [valid_rule]\n",
    "        df_similarity_scores['Similarity_Score']=[similarity_score]\n",
    "    else:\n",
    "        df_similarity_scores.loc[len(df_similarity_scores.index)] = [len(df_similarity_scores.index),directory,prompt,invalid_rule,valid_rule,similarity_score] "
   ]
  },
  {
   "cell_type": "code",
   "execution_count": 26,
   "id": "7bcd2cf8-6cf7-48ee-ad26-63d2c4484705",
   "metadata": {},
   "outputs": [
    {
     "data": {
      "text/plain": [
       "(4, 6)"
      ]
     },
     "execution_count": 26,
     "metadata": {},
     "output_type": "execute_result"
    }
   ],
   "source": [
    "df_similarity_scores.shape"
   ]
  },
  {
   "cell_type": "code",
   "execution_count": 8,
   "id": "34d2835c-0ec0-4f4e-a548-e7ec98935539",
   "metadata": {},
   "outputs": [
    {
     "data": {
      "text/html": [
       "<div>\n",
       "<style scoped>\n",
       "    .dataframe tbody tr th:only-of-type {\n",
       "        vertical-align: middle;\n",
       "    }\n",
       "\n",
       "    .dataframe tbody tr th {\n",
       "        vertical-align: top;\n",
       "    }\n",
       "\n",
       "    .dataframe thead th {\n",
       "        text-align: right;\n",
       "    }\n",
       "</style>\n",
       "<table border=\"1\" class=\"dataframe\">\n",
       "  <thead>\n",
       "    <tr style=\"text-align: right;\">\n",
       "      <th></th>\n",
       "      <th>Index</th>\n",
       "      <th>Directory</th>\n",
       "      <th>Query</th>\n",
       "      <th>PrivateGPT_Rule</th>\n",
       "      <th>Actual_Rule</th>\n",
       "      <th>Similarity_Score</th>\n",
       "    </tr>\n",
       "  </thead>\n",
       "  <tbody>\n",
       "    <tr>\n",
       "      <th>0</th>\n",
       "      <td>0</td>\n",
       "      <td>KarlatIwoca</td>\n",
       "      <td>Team admin, maintainer, observer_plus and obse...</td>\n",
       "      <td>allow { }</td>\n",
       "      <td>allow { \\nobject.type == \"targeted_query\" \\nob...</td>\n",
       "      <td>0.132475</td>\n",
       "    </tr>\n",
       "    <tr>\n",
       "      <th>1</th>\n",
       "      <td>1</td>\n",
       "      <td>weswhet</td>\n",
       "      <td>If role is maintainer on any team</td>\n",
       "      <td>team_role(subject, subject.teams[_].id) == mai...</td>\n",
       "      <td>team_role(subject, subject.teams[_].id) == adm...</td>\n",
       "      <td>0.947022</td>\n",
       "    </tr>\n",
       "    <tr>\n",
       "      <th>2</th>\n",
       "      <td>2</td>\n",
       "      <td>y0zg</td>\n",
       "      <td>If role is maintainer on any team</td>\n",
       "      <td>team_role(subject, subject.teams[_].id) == mai...</td>\n",
       "      <td>team_role(subject, subject.teams[_].id) == adm...</td>\n",
       "      <td>0.947022</td>\n",
       "    </tr>\n",
       "    <tr>\n",
       "      <th>3</th>\n",
       "      <td>3</td>\n",
       "      <td>stephanmiehe</td>\n",
       "      <td>If role is admin or maintainer on any team</td>\n",
       "      <td>team_role(subject, team_id) == [admin, maintai...</td>\n",
       "      <td>team_role(subject, subject.teams[_].id) == [ad...</td>\n",
       "      <td>0.361995</td>\n",
       "    </tr>\n",
       "    <tr>\n",
       "      <th>4</th>\n",
       "      <td>4</td>\n",
       "      <td>kyle-humane</td>\n",
       "      <td>If role is admin or maintainer on any team</td>\n",
       "      <td>team_role(subject, team_id) == [admin, maintai...</td>\n",
       "      <td>team_role(subject, subject.teams[_].id) == [ad...</td>\n",
       "      <td>0.361995</td>\n",
       "    </tr>\n",
       "    <tr>\n",
       "      <th>5</th>\n",
       "      <td>5</td>\n",
       "      <td>kapawit</td>\n",
       "      <td>Team admin, maintainer, observer_plus and obse...</td>\n",
       "      <td>allow { }</td>\n",
       "      <td>allow { \\nobject.type == \"targeted_query\" \\nob...</td>\n",
       "      <td>0.132475</td>\n",
       "    </tr>\n",
       "    <tr>\n",
       "      <th>6</th>\n",
       "      <td>6</td>\n",
       "      <td>blazman</td>\n",
       "      <td>Team admin, maintainer, observer_plus and obse...</td>\n",
       "      <td>allow { }</td>\n",
       "      <td>allow { \\nobject.type == \"targeted_query\" \\nob...</td>\n",
       "      <td>0.132475</td>\n",
       "    </tr>\n",
       "  </tbody>\n",
       "</table>\n",
       "</div>"
      ],
      "text/plain": [
       "   Index     Directory                                              Query  \\\n",
       "0      0   KarlatIwoca  Team admin, maintainer, observer_plus and obse...   \n",
       "1      1       weswhet                  If role is maintainer on any team   \n",
       "2      2          y0zg                  If role is maintainer on any team   \n",
       "3      3  stephanmiehe         If role is admin or maintainer on any team   \n",
       "4      4   kyle-humane         If role is admin or maintainer on any team   \n",
       "5      5       kapawit  Team admin, maintainer, observer_plus and obse...   \n",
       "6      6       blazman  Team admin, maintainer, observer_plus and obse...   \n",
       "\n",
       "                                     PrivateGPT_Rule  \\\n",
       "0                                          allow { }   \n",
       "1  team_role(subject, subject.teams[_].id) == mai...   \n",
       "2  team_role(subject, subject.teams[_].id) == mai...   \n",
       "3  team_role(subject, team_id) == [admin, maintai...   \n",
       "4  team_role(subject, team_id) == [admin, maintai...   \n",
       "5                                          allow { }   \n",
       "6                                          allow { }   \n",
       "\n",
       "                                         Actual_Rule  Similarity_Score  \n",
       "0  allow { \\nobject.type == \"targeted_query\" \\nob...          0.132475  \n",
       "1  team_role(subject, subject.teams[_].id) == adm...          0.947022  \n",
       "2  team_role(subject, subject.teams[_].id) == adm...          0.947022  \n",
       "3  team_role(subject, subject.teams[_].id) == [ad...          0.361995  \n",
       "4  team_role(subject, subject.teams[_].id) == [ad...          0.361995  \n",
       "5  allow { \\nobject.type == \"targeted_query\" \\nob...          0.132475  \n",
       "6  allow { \\nobject.type == \"targeted_query\" \\nob...          0.132475  "
      ]
     },
     "execution_count": 8,
     "metadata": {},
     "output_type": "execute_result"
    }
   ],
   "source": [
    "df_similarity_scores.head(8)"
   ]
  },
  {
   "cell_type": "code",
   "execution_count": 9,
   "id": "8e1e0703-f61d-40f9-8b9b-587cfda296a7",
   "metadata": {},
   "outputs": [
    {
     "data": {
      "text/plain": [
       "0.4307796714146077"
      ]
     },
     "execution_count": 9,
     "metadata": {},
     "output_type": "execute_result"
    }
   ],
   "source": [
    "df_similarity_scores['Similarity_Score'].mean()"
   ]
  },
  {
   "cell_type": "code",
   "execution_count": 10,
   "id": "fbc0147a",
   "metadata": {},
   "outputs": [],
   "source": [
    "df_similarity_scores.to_csv('OPA_Test_Cases/ChatGPT_Validated/chatgpt_invalid_similarity_scores.csv')"
   ]
  },
  {
   "cell_type": "code",
   "execution_count": 13,
   "id": "cc5685e8",
   "metadata": {},
   "outputs": [
    {
     "data": {
      "text/plain": [
       "(87, 6)"
      ]
     },
     "execution_count": 13,
     "metadata": {},
     "output_type": "execute_result"
    }
   ],
   "source": [
    "df[app]"
   ]
  },
  {
   "cell_type": "code",
   "execution_count": null,
   "id": "5532bac0-92a7-4d02-b646-c815bac393ae",
   "metadata": {},
   "outputs": [],
   "source": []
  }
 ],
 "metadata": {
  "kernelspec": {
   "display_name": "Python 3 (ipykernel)",
   "language": "python",
   "name": "python3"
  },
  "language_info": {
   "codemirror_mode": {
    "name": "ipython",
    "version": 3
   },
   "file_extension": ".py",
   "mimetype": "text/x-python",
   "name": "python",
   "nbconvert_exporter": "python",
   "pygments_lexer": "ipython3",
   "version": "3.8.10"
  }
 },
 "nbformat": 4,
 "nbformat_minor": 5
}
