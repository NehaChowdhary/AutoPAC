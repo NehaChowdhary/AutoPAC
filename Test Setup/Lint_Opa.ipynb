{
 "cells": [
  {
   "cell_type": "code",
   "execution_count": 1,
   "id": "e534e8bd-2daa-40cb-bf90-ac4ec8de7b09",
   "metadata": {},
   "outputs": [],
   "source": [
    "import requests\n",
    "import json\n",
    "import pandas as pd\n",
    "import re"
   ]
  },
  {
   "cell_type": "code",
   "execution_count": 2,
   "id": "7db8375c-304a-4414-812a-f2403d40bd08",
   "metadata": {},
   "outputs": [],
   "source": [
    "FORMATTER_URL = 'https://play.openpolicyagent.org/v1/fmt'\n",
    "LINT_URL = 'https://play.openpolicyagent.org/v1/lint'\n",
    "PRIVATEGPT_URL = 'http://localhost:5000/get_answer'\n",
    "\n",
    "PRIVATEGPT_HEADERS = {\"Content-Type\": \"application/json\"}\n",
    "\n",
    "sentence = 'package abc'\n",
    "\n",
    "# Data to be sent in the POST request\n",
    "POST_DATA = {\n",
    "    \"rego_module\": sentence\n",
    "}"
   ]
  },
  {
   "cell_type": "code",
   "execution_count": 3,
   "id": "2190ab2f-5090-4062-8dda-9e6181c3f9ea",
   "metadata": {},
   "outputs": [],
   "source": [
    "# Process OPA format function\n",
    "def process_fmt(post_data):\n",
    "    try:\n",
    "        response = requests.post(FORMATTER_URL, json=post_data)\n",
    "\n",
    "        if('result' not in response.json()):\n",
    "            raise requests.RequestException(\"Result not present in fmt response\")\n",
    "        print(response.json()[\"result\"])\n",
    "\n",
    "        if response.status_code // 100 == 2:\n",
    "            print(\"Formatting successful. Processing lint\")\n",
    "        else:\n",
    "            print(f'Error making POST request. Status code: {response.status_code}')\n",
    "            \n",
    "        return response\n",
    "\n",
    "    except requests.RequestException as e:\n",
    "        print('Error:', e)"
   ]
  },
  {
   "cell_type": "code",
   "execution_count": 4,
   "id": "bb1851d7-a4b6-4e2a-bd29-d9a7acc3be88",
   "metadata": {},
   "outputs": [],
   "source": [
    "def process_lint(post_data):\n",
    "    try:\n",
    "        response = requests.post(LINT_URL, json=post_data)\n",
    "\n",
    "        if (response.status_code // 100) != 2:\n",
    "            print(f'Error making POST request. Status code: {response.status_code}')\n",
    "\n",
    "        return response\n",
    "    \n",
    "    except requests.RequestException as e:\n",
    "        print('Error:', e)"
   ]
  },
  {
   "cell_type": "code",
   "execution_count": 5,
   "id": "f01c1e9e-47c9-4b0c-8912-2a50152504df",
   "metadata": {},
   "outputs": [],
   "source": [
    "def process_privategpt(post_data):\n",
    "    try:\n",
    "        privategpt_req_body = {\"query\": post_data}\n",
    "        privategpt_req_body = json.dumps(privategpt_req_body)\n",
    "        privategpt_response = requests.post(PRIVATEGPT_URL,json=privategpt_req_body,headers=PRIVATEGPT_HEADERS)\n",
    "        \n",
    "        if (privategpt_response.status_code // 100) != 2:\n",
    "            print(f'Error making POST request. Status code: {privategpt_response.status_code}')\n",
    "\n",
    "        return privategpt_response\n",
    "        \n",
    "    except requests.RequestException as e:\n",
    "        print('Error:', e)"
   ]
  },
  {
   "cell_type": "code",
   "execution_count": 6,
   "id": "ad5b210d-6f76-424b-aa3a-2618d738345e",
   "metadata": {},
   "outputs": [
    {
     "name": "stdout",
     "output_type": "stream",
     "text": [
      "Query asked:  Implement a REGO rule sm1 if rso>puj, vq>ji and t!=x.\n"
     ]
    }
   ],
   "source": [
    "# Include data fetch code from privategpt server\n",
    "queries_df = pd.read_csv(\"queries.csv\")\n",
    "query = queries_df.sample(n=1)\n",
    "query_placeholder = query[\"prompt\"].iloc[0]\n",
    "\n",
    "print(\"Query asked: \",query_placeholder)\n",
    "\n",
    "response_privategpt = process_privategpt(query_placeholder)"
   ]
  },
  {
   "cell_type": "code",
   "execution_count": 7,
   "id": "6ca64fdb-eece-41f2-ae39-2a2f944f5eb6",
   "metadata": {},
   "outputs": [
    {
     "name": "stdout",
     "output_type": "stream",
     "text": [
      "<Response [200]>\n"
     ]
    }
   ],
   "source": [
    "print(response_privategpt)"
   ]
  },
  {
   "cell_type": "code",
   "execution_count": 8,
   "id": "9d879261-e28d-4860-86ce-24fabae24337",
   "metadata": {},
   "outputs": [
    {
     "name": "stdout",
     "output_type": "stream",
     "text": [
      "{'answer': ' Rule r from above would be implemented as follows using the two variables p (input) and q(output):', 'query': '{\"query\": \"Implement a REGO rule sm1 if rso>puj, vq>ji and t!=x.\"}', 'source': [{'name': 'source_documents/rego_basic_unlabelled.txt'}, {'name': 'source_documents/rego_basic_unlabelled.txt'}, {'name': 'source_documents/rego_basic_unlabelled.txt'}, {'name': 'source_documents/rego_basic_unlabelled.txt'}]}\n"
     ]
    }
   ],
   "source": [
    "print(response_privategpt.json())"
   ]
  },
  {
   "cell_type": "code",
   "execution_count": 9,
   "id": "0de2e7c8-f345-43cf-9348-b89183ac727c",
   "metadata": {},
   "outputs": [],
   "source": [
    "privategpt_answer = response_privategpt.json()[\"answer\"]"
   ]
  },
  {
   "cell_type": "code",
   "execution_count": 13,
   "id": "98a7b7d8-837e-4ee7-8ae4-cdc1d33838ed",
   "metadata": {},
   "outputs": [
    {
     "name": "stdout",
     "output_type": "stream",
     "text": [
      " Rule r from above would be implemented as follows using the two variables p (input) and q(output):\n"
     ]
    }
   ],
   "source": [
    "print(privategpt_answer)"
   ]
  },
  {
   "cell_type": "code",
   "execution_count": null,
   "id": "f44ad33b-47be-4c95-a6c8-f8a9fb596c1f",
   "metadata": {},
   "outputs": [],
   "source": []
  }
 ],
 "metadata": {
  "kernelspec": {
   "display_name": "Python 3 (ipykernel)",
   "language": "python",
   "name": "python3"
  },
  "language_info": {
   "codemirror_mode": {
    "name": "ipython",
    "version": 3
   },
   "file_extension": ".py",
   "mimetype": "text/x-python",
   "name": "python",
   "nbconvert_exporter": "python",
   "pygments_lexer": "ipython3",
   "version": "3.10.12"
  }
 },
 "nbformat": 4,
 "nbformat_minor": 5
}
